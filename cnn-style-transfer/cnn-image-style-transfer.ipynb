{
 "cells": [
  {
   "cell_type": "markdown",
   "metadata": {},
   "source": [
    "# Image style transfer with CNN\n",
    "\n",
    "The goal is to generate new image from two input images the way that the output image contains the content of the first input image (spatial features) and the style (texture) of the another input image. The actual generator is implemented using convolutional neural network (CNN).\n",
    "\n",
    "In other words, define a style transfer process which modifies the content image style while preserving its content close to the original. You can also think it as a process of merging two images together resulting in an output image containing aspects from both input images.\n",
    "\n",
    "This notebook is an implementation of the method used to extract the artistic style of an image described in the following white paper (https://arxiv.org/pdf/1508.06576.pdf)"
   ]
  },
  {
   "cell_type": "markdown",
   "metadata": {},
   "source": [
    "## Overview\n",
    "\n",
    "#### Initialization\n",
    "- Two images (content and style) from which the feature maps are extracted\n",
    "    - Content image, the one containing all the spatial features\n",
    "    - Style image, contains the overall style / texture\n",
    "- The feature maps are used to adjust the features of random generated initial image to be as close as possible to the extracted content and style features\n",
    "- A random generated image is passed as an input to the model\n",
    "- After the style transfer process, the output image is overpainted to the input image by adjusting the pixel values during the process\n",
    "\n",
    "#### Base model\n",
    "- In order to extract the correct feature maps from the input images (spatial features from the content image, style features from the style image), a general machine learning model is needed\n",
    "- There are several models which can be used as a base model to extract the feature maps\n",
    "    - VGG16 is arguably the most popular one, at least for this purpose\n",
    "- The model is only used to get the right features, it will not be trained during the process (in other words, the model weights won't be update)\n",
    "\n",
    "#### The problem definition\n",
    "The style transfer process can be turned into a machine learning optimization problem. The optimization problem here is to minimize the loss function which is defined as follows:\n",
    "\n",
    "Total loss = content loss + style loss\n",
    "\n",
    "Content loss = The difference in content between initial input image and the content image\n",
    "Style loss = The difference in style between the input and the style image\n",
    "\n",
    "The smaller the total loss is, the closer the features of the output image are to the input images => matching content and style of the original images\n",
    "\n",
    "#### The process description\n",
    "- Random initial image\n",
    "- Match the initial image's feature maps to the extracted feature maps at chosen feature convolutional layer => backpropagates the input image pixels instead of the model weights"
   ]
  },
  {
   "cell_type": "code",
   "execution_count": null,
   "metadata": {},
   "outputs": [],
   "source": [
    "TODOs\n",
    "- Resize the input images\n",
    "- Add the total variation loss\n",
    "    - Total variation loss = The smoothness of the image"
   ]
  },
  {
   "cell_type": "code",
   "execution_count": null,
   "metadata": {},
   "outputs": [],
   "source": []
  }
 ],
 "metadata": {
  "kernelspec": {
   "display_name": "Python 3",
   "language": "python",
   "name": "python3"
  },
  "language_info": {
   "codemirror_mode": {
    "name": "ipython",
    "version": 3
   },
   "file_extension": ".py",
   "mimetype": "text/x-python",
   "name": "python",
   "nbconvert_exporter": "python",
   "pygments_lexer": "ipython3",
   "version": "3.6.8"
  },
  "toc": {
   "base_numbering": 1,
   "nav_menu": {},
   "number_sections": true,
   "sideBar": true,
   "skip_h1_title": false,
   "title_cell": "Table of Contents",
   "title_sidebar": "Contents",
   "toc_cell": false,
   "toc_position": {},
   "toc_section_display": true,
   "toc_window_display": false
  },
  "varInspector": {
   "cols": {
    "lenName": 16,
    "lenType": 16,
    "lenVar": 40
   },
   "kernels_config": {
    "python": {
     "delete_cmd_postfix": "",
     "delete_cmd_prefix": "del ",
     "library": "var_list.py",
     "varRefreshCmd": "print(var_dic_list())"
    },
    "r": {
     "delete_cmd_postfix": ") ",
     "delete_cmd_prefix": "rm(",
     "library": "var_list.r",
     "varRefreshCmd": "cat(var_dic_list()) "
    }
   },
   "types_to_exclude": [
    "module",
    "function",
    "builtin_function_or_method",
    "instance",
    "_Feature"
   ],
   "window_display": false
  }
 },
 "nbformat": 4,
 "nbformat_minor": 2
}
